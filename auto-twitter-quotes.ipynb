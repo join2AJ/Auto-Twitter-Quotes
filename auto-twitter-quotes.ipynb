{
 "cells": [
  {
   "cell_type": "code",
   "execution_count": 1,
   "id": "4b26c98f",
   "metadata": {},
   "outputs": [
    {
     "name": "stdout",
     "output_type": "stream",
     "text": [
      "Requirement already satisfied: gspread in /opt/anaconda3/envs/env_dlib/lib/python3.6/site-packages (4.0.1)\n",
      "Requirement already satisfied: google-auth-oauthlib>=0.4.1 in /opt/anaconda3/envs/env_dlib/lib/python3.6/site-packages (from gspread) (0.4.5)\n",
      "Requirement already satisfied: google-auth>=1.12.0 in /opt/anaconda3/envs/env_dlib/lib/python3.6/site-packages (from gspread) (1.34.0)\n",
      "Requirement already satisfied: pyasn1-modules>=0.2.1 in /opt/anaconda3/envs/env_dlib/lib/python3.6/site-packages (from google-auth>=1.12.0->gspread) (0.2.8)\n",
      "Requirement already satisfied: cachetools<5.0,>=2.0.0 in /opt/anaconda3/envs/env_dlib/lib/python3.6/site-packages (from google-auth>=1.12.0->gspread) (4.2.2)\n",
      "Requirement already satisfied: rsa<5,>=3.1.4 in /opt/anaconda3/envs/env_dlib/lib/python3.6/site-packages (from google-auth>=1.12.0->gspread) (4.7.2)\n",
      "Requirement already satisfied: six>=1.9.0 in /opt/anaconda3/envs/env_dlib/lib/python3.6/site-packages (from google-auth>=1.12.0->gspread) (1.15.0)\n",
      "Requirement already satisfied: setuptools>=40.3.0 in /opt/anaconda3/envs/env_dlib/lib/python3.6/site-packages (from google-auth>=1.12.0->gspread) (52.0.0.post20210125)\n",
      "Requirement already satisfied: requests-oauthlib>=0.7.0 in /opt/anaconda3/envs/env_dlib/lib/python3.6/site-packages (from google-auth-oauthlib>=0.4.1->gspread) (1.3.0)\n",
      "Requirement already satisfied: pyasn1<0.5.0,>=0.4.6 in /opt/anaconda3/envs/env_dlib/lib/python3.6/site-packages (from pyasn1-modules>=0.2.1->google-auth>=1.12.0->gspread) (0.4.8)\n",
      "Requirement already satisfied: requests>=2.0.0 in /opt/anaconda3/envs/env_dlib/lib/python3.6/site-packages (from requests-oauthlib>=0.7.0->google-auth-oauthlib>=0.4.1->gspread) (2.25.1)\n",
      "Requirement already satisfied: oauthlib>=3.0.0 in /opt/anaconda3/envs/env_dlib/lib/python3.6/site-packages (from requests-oauthlib>=0.7.0->google-auth-oauthlib>=0.4.1->gspread) (3.1.1)\n",
      "Requirement already satisfied: chardet<5,>=3.0.2 in /opt/anaconda3/envs/env_dlib/lib/python3.6/site-packages (from requests>=2.0.0->requests-oauthlib>=0.7.0->google-auth-oauthlib>=0.4.1->gspread) (4.0.0)\n",
      "Requirement already satisfied: certifi>=2017.4.17 in /opt/anaconda3/envs/env_dlib/lib/python3.6/site-packages (from requests>=2.0.0->requests-oauthlib>=0.7.0->google-auth-oauthlib>=0.4.1->gspread) (2021.5.30)\n",
      "Requirement already satisfied: idna<3,>=2.5 in /opt/anaconda3/envs/env_dlib/lib/python3.6/site-packages (from requests>=2.0.0->requests-oauthlib>=0.7.0->google-auth-oauthlib>=0.4.1->gspread) (2.10)\n",
      "Requirement already satisfied: urllib3<1.27,>=1.21.1 in /opt/anaconda3/envs/env_dlib/lib/python3.6/site-packages (from requests>=2.0.0->requests-oauthlib>=0.7.0->google-auth-oauthlib>=0.4.1->gspread) (1.26.6)\n",
      "Note: you may need to restart the kernel to use updated packages.\n"
     ]
    }
   ],
   "source": [
    "pip install gspread"
   ]
  },
  {
   "cell_type": "code",
   "execution_count": 2,
   "id": "a6459cf3",
   "metadata": {},
   "outputs": [
    {
     "name": "stdout",
     "output_type": "stream",
     "text": [
      "Requirement already satisfied: twitter in /opt/anaconda3/envs/env_dlib/lib/python3.6/site-packages (1.19.3)\n",
      "Note: you may need to restart the kernel to use updated packages.\n"
     ]
    }
   ],
   "source": [
    "pip install twitter"
   ]
  },
  {
   "cell_type": "code",
   "execution_count": null,
   "id": "161e33e6",
   "metadata": {},
   "outputs": [],
   "source": [
    "# Importing Libraries\n",
    "import gspread\n",
    "from twitter import *\n",
    "\n",
    "#Initilaing credentials\n",
    "consumer_key =''\n",
    "consumer_secret=''\n",
    "token=''\n",
    "token_secret=''\n",
    "\n",
    "gc = gspread.service_account('credentials.json')\n",
    "t = Twitter(\n",
    "    auth=OAuth(token, token_secret, consumer_key, consumer_secret))\n",
    "\n",
    "# Open a sheet from a spreadsheet in one go\n",
    "wks = gc.open(\"twitter-quotes\").sheet1\n",
    "\n",
    "# fetching data from source file and displaying\n",
    "quote = wks.acell('B2').value\n",
    "author = wks.acell('C2').value\n",
    "\n",
    "#retreving twitter tags\n",
    "unsorted_tag = wks.acell('D2').value\n",
    "# tag = unsorted_tag.split(\";\")\n",
    "# for i, s in enumerate(tag):\n",
    "#     tag[i]=\"#\"+s\n",
    "  \n",
    "# print(quote)\n",
    "# [print(k,end=\" \") for k in tag]\n",
    "# print(\"\\n\\n-\",author)\n",
    "\n",
    "tweet = quote +\"\\n\\n-\"+author\n",
    "\n",
    "# Update your status\n",
    "t.statuses.update(\n",
    "    status=tweet)\n",
    "\n",
    "# wks.delete_rows(2)"
   ]
  }
 ],
 "metadata": {
  "kernelspec": {
   "display_name": "Python 3",
   "language": "python",
   "name": "python3"
  },
  "language_info": {
   "codemirror_mode": {
    "name": "ipython",
    "version": 3
   },
   "file_extension": ".py",
   "mimetype": "text/x-python",
   "name": "python",
   "nbconvert_exporter": "python",
   "pygments_lexer": "ipython3",
   "version": "3.6.13"
  }
 },
 "nbformat": 4,
 "nbformat_minor": 5
}
